{
 "cells": [
  {
   "cell_type": "code",
   "execution_count": 24,
   "metadata": {},
   "outputs": [
    {
     "name": "stderr",
     "output_type": "stream",
     "text": [
      "PyCBC.libutils: pkg-config call failed, setting NO_PKGCONFIG=1\n"
     ]
    }
   ],
   "source": [
    "import numpy as np\n",
    "import matplotlib.pyplot as plt\n",
    "import pycbc"
   ]
  },
  {
   "cell_type": "code",
   "execution_count": 2,
   "metadata": {},
   "outputs": [],
   "source": [
    "file_L1 = 'snr_detector_0_ID_0.txt'\n",
    "file_H1 = 'snr_detector_1_ID_0.txt'\n",
    "file_V1 = 'snr_detector_2_ID_0.txt'\n",
    "\n",
    "data_L1 = np.loadtxt(file_L1)\n",
    "data_H1 = np.loadtxt(file_H1)\n",
    "data_V1 = np.loadtxt(file_V1)"
   ]
  },
  {
   "cell_type": "code",
   "execution_count": 8,
   "metadata": {},
   "outputs": [],
   "source": [
    "time = data_H1[:,0] # all of 3 have the same time\n",
    "\n",
    "real_L1 = data_L1[:,1] \n",
    "imag_L1 = data_L1[:,2] \n",
    "abs_L1 = np.sqrt(real_L1**2 + imag_L1**2)\n",
    "\n",
    "real_H1 = data_H1[:,1] \n",
    "imag_H1 = data_H1[:,2] \n",
    "abs_H1 = np.sqrt(real_H1**2 + imag_H1**2)\n",
    "\n",
    "real_V1 = data_V1[:,1] \n",
    "imag_V1 = data_V1[:,2] \n",
    "abs_V1 = np.sqrt(real_V1**2 + imag_V1**2)"
   ]
  },
  {
   "cell_type": "code",
   "execution_count": 9,
   "metadata": {},
   "outputs": [
    {
     "data": {
      "text/plain": [
       "<matplotlib.legend.Legend at 0x11413db70>"
      ]
     },
     "execution_count": 9,
     "metadata": {},
     "output_type": "execute_result"
    },
    {
     "data": {
      "image/png": "[encoded data removed]",
      "text/plain": [
       "<Figure size 432x288 with 1 Axes>"
      ]
     },
     "metadata": {
      "needs_background": "light"
     },
     "output_type": "display_data"
    }
   ],
   "source": [
    "\n",
    "plt.plot(time, abs_L1, label='L1')\n",
    "plt.plot(time, abs_H1, label='H1')\n",
    "plt.plot(time, abs_V1, label='V1')\n",
    "plt.legend()"
   ]
  },
  {
   "cell_type": "code",
   "execution_count": 12,
   "metadata": {},
   "outputs": [
    {
     "data": {
      "text/plain": [
       "2048"
      ]
     },
     "execution_count": 12,
     "metadata": {},
     "output_type": "execute_result"
    }
   ],
   "source": [
    "len(time)"
   ]
  },
  {
   "cell_type": "code",
   "execution_count": 14,
   "metadata": {},
   "outputs": [
    {
     "data": {
      "text/plain": [
       "(1187008882.0, 1187008882.9995117)"
      ]
     },
     "execution_count": 14,
     "metadata": {},
     "output_type": "execute_result"
    }
   ],
   "source": [
    "time[0], time[-1]"
   ]
  },
  {
   "cell_type": "code",
   "execution_count": 23,
   "metadata": {},
   "outputs": [
    {
     "name": "stdout",
     "output_type": "stream",
     "text": [
      "1187008882.4453125 1187008882.4487305 1187008882.4228516\n",
      "912 919 866\n"
     ]
    }
   ],
   "source": [
    "print(time[np.where(abs_L1 == max(abs_L1))[0][0]],\n",
    "    time[np.where(abs_H1 == max(abs_H1))[0][0]],\n",
    "    time[np.where(abs_V1 == max(abs_V1))[0][0]])\n",
    "\n",
    "\n",
    "print(np.where(abs_L1 == max(abs_L1))[0][0],\n",
    "    np.where(abs_H1 == max(abs_H1))[0][0],\n",
    "    np.where(abs_V1 == max(abs_V1))[0][0])\n"
   ]
  },
  {
   "cell_type": "code",
   "execution_count": 25,
   "metadata": {},
   "outputs": [],
   "source": [
    "from pycbc.detector import Detector"
   ]
  },
  {
   "cell_type": "code",
   "execution_count": 32,
   "metadata": {},
   "outputs": [],
   "source": [
    "L1 = Detector(\"L1\")\n",
    "H1 = Detector(\"H1\")\n",
    "V1 = Detector(\"V1\")\n",
    "\n",
    "ra = 3.446\n",
    "de = -0.408\n",
    "gps = 1187008882.4"
   ]
  },
  {
   "cell_type": "code",
   "execution_count": 30,
   "metadata": {},
   "outputs": [
    {
     "data": {
      "text/plain": [
       "\u001b[0;31mSignature:\u001b[0m \u001b[0mDetector\u001b[0m\u001b[0;34m.\u001b[0m\u001b[0mtime_delay_from_earth_center\u001b[0m\u001b[0;34m(\u001b[0m\u001b[0mself\u001b[0m\u001b[0;34m,\u001b[0m \u001b[0mright_ascension\u001b[0m\u001b[0;34m,\u001b[0m \u001b[0mdeclination\u001b[0m\u001b[0;34m,\u001b[0m \u001b[0mt_gps\u001b[0m\u001b[0;34m)\u001b[0m\u001b[0;34m\u001b[0m\u001b[0m\n",
       "\u001b[0;31mDocstring:\u001b[0m\n",
       "Return the time delay from the earth center\n",
       "        \n",
       "\u001b[0;31mFile:\u001b[0m      /anaconda3/lib/python3.7/site-packages/PyCBC-1.16.dev3-py3.7-macosx-10.7-x86_64.egg/pycbc/detector.py\n",
       "\u001b[0;31mType:\u001b[0m      function\n"
      ]
     },
     "metadata": {},
     "output_type": "display_data"
    }
   ],
   "source": [
    "Detector.time_delay_from_earth_center?"
   ]
  },
  {
   "cell_type": "code",
   "execution_count": 34,
   "metadata": {},
   "outputs": [
    {
     "name": "stderr",
     "output_type": "stream",
     "text": [
      "WARNING: failed to download http://maia.usno.navy.mil/ser7/finals2000A.all, using local IERS-B: <urlopen error [Errno 8] nodename nor servname provided, or not known. requested URL: http://maia.usno.navy.mil/ser7/finals2000A.all> [astropy.utils.iers.iers]\n"
     ]
    },
    {
     "data": {
      "text/plain": [
       "(0.015497350728423611, 0.01879246839209647, -0.00639388465389929)"
      ]
     },
     "execution_count": 34,
     "metadata": {},
     "output_type": "execute_result"
    }
   ],
   "source": [
    "Detector.time_delay_from_earth_center(L1, ra, de, gps),Detector.time_delay_from_earth_center(H1, ra, de, gps),Detector.time_delay_from_earth_center(V1, ra, de, gps)\n"
   ]
  },
  {
   "cell_type": "code",
   "execution_count": null,
   "metadata": {},
   "outputs": [],
   "source": []
  }
 ],
 "metadata": {
  "kernelspec": {
   "display_name": "Python 3",
   "language": "python",
   "name": "python3"
  },
  "language_info": {
   "codemirror_mode": {
    "name": "ipython",
    "version": 3
   },
   "file_extension": ".py",
   "mimetype": "text/x-python",
   "name": "python",
   "nbconvert_exporter": "python",
   "pygments_lexer": "ipython3",
   "version": "3.7.0"
  }
 },
 "nbformat": 4,
 "nbformat_minor": 2
}
