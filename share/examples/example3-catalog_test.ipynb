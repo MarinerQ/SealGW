{
 "cells": [
  {
   "cell_type": "markdown",
   "id": "baa820c8-5dd6-4ac5-a787-c7cdcfea345e",
   "metadata": {},
   "source": [
    "# Example3: Catalog test\n",
    "\n",
    "In this notebook I will show how to test seal's performance for a catalog.\n",
    "\n",
    "We will calculate 50% & 90% areas, search area, and make p-p plot."
   ]
  },
  {
   "cell_type": "code",
   "execution_count": 1,
   "id": "2b94a12c-e95b-49ea-a7b0-7e66f646fb48",
   "metadata": {},
   "outputs": [
    {
     "name": "stderr",
     "output_type": "stream",
     "text": [
      "<frozen importlib._bootstrap>:228: RuntimeWarning: scipy._lib.messagestream.MessageStream size changed, may indicate binary incompatibility. Expected 56 from C header, got 64 from PyObject\n"
     ]
    }
   ],
   "source": [
    "import bilby\n",
    "import numpy as np \n",
    "import time\n",
    "import sys\n",
    "import matplotlib.pyplot as plt\n",
    "from multiprocessing import Pool\n",
    "import multiprocessing\n",
    "from functools import partial\n",
    "from matplotlib.pyplot import MultipleLocator\n",
    "from bilby.gw import conversion\n",
    "from scipy.optimize import leastsq\n",
    "import json\n",
    "from pycbc.filter import matched_filter,matched_filter_core\n",
    "from pycbc.types.timeseries import TimeSeries\n",
    "from pycbc.types.frequencyseries import FrequencySeries\n",
    "from lal import LIGOTimeGPS\n",
    "import scipy\n",
    "import sealgw\n",
    "from sealgw import seal\n",
    "import sealgw.calculation as sealcal\n",
    "import sealgw.simulation as sealsim"
   ]
  },
  {
   "cell_type": "code",
   "execution_count": 2,
   "id": "82de8031-3422-44d5-b359-29d9c138f026",
   "metadata": {
    "tags": []
   },
   "outputs": [
    {
     "name": "stderr",
     "output_type": "stream",
     "text": [
      "16:52 bilby INFO    : Waveform generator initiated with\n",
      "  frequency_domain_source_model: bilby.gw.source.lal_binary_neutron_star\n",
      "  time_domain_source_model: None\n",
      "  parameter_conversion: bilby.gw.conversion.convert_to_lal_binary_neutron_star_parameters\n"
     ]
    },
    {
     "name": "stdout",
     "output_type": "stream",
     "text": [
      "Generating source parameters...\n",
      "Localizing for them...\n"
     ]
    },
    {
     "name": "stderr",
     "output_type": "stream",
     "text": [
      "16:53 bilby INFO    : Injected signal in L1:\n",
      "16:53 bilby INFO    :   optimal SNR = 2.75\n",
      "16:53 bilby INFO    :   matched filter SNR = 4.14-1.28j\n",
      "16:53 bilby INFO    :   chirp_mass = 1.0060312520566577\n",
      "16:53 bilby INFO    : Injected signal in L1:\n",
      "16:53 bilby INFO    :   mass_ratio = 0.9924245202173413\n",
      "16:53 bilby INFO    :   optimal SNR = 5.86\n",
      "16:53 bilby INFO    :   a_1 = 0.052378672409517935\n",
      "16:53 bilby INFO    :   matched filter SNR = 5.01+0.84j\n",
      "16:53 bilby INFO    :   a_2 = 0.09173167373152376\n",
      "16:53 bilby INFO    :   tilt_1 = 0.0\n",
      "16:53 bilby INFO    :   chirp_mass = 1.579945541472741\n",
      "16:53 bilby INFO    :   tilt_2 = 0.0\n",
      "16:53 bilby INFO    :   mass_ratio = 0.8398722026832189\n",
      "16:53 bilby INFO    :   a_1 = 0.07827776237046916\n",
      "16:53 bilby INFO    :   phi_12 = 0.0\n",
      "16:53 bilby INFO    :   phi_jl = 0.0\n",
      "16:53 bilby INFO    :   a_2 = 0.03748007686855932\n",
      "16:53 bilby INFO    :   tilt_1 = 0.0\n",
      "16:53 bilby INFO    : Injected signal in L1:\n",
      "16:53 bilby INFO    :   theta_jn = 1.9625764780877466\n",
      "16:53 bilby INFO    :   psi = 2.336847567882494\n",
      "16:53 bilby INFO    :   tilt_2 = 0.0\n",
      "16:53 bilby INFO    :   optimal SNR = 6.96\n",
      "16:53 bilby INFO    :   phase = 3.142888579338582\n",
      "16:53 bilby INFO    :   matched filter SNR = 8.13-0.04j\n",
      "16:53 bilby INFO    :   phi_12 = 0.0\n",
      "16:53 bilby INFO    :   ra = 5.228046220965718\n",
      "16:53 bilby INFO    :   phi_jl = 0.0\n",
      "16:53 bilby INFO    :   chirp_mass = 1.5799832204769408\n",
      "16:53 bilby INFO    : Injected signal in L1:\n",
      "16:53 bilby INFO    :   mass_ratio = 0.987610738423214\n",
      "16:53 bilby INFO    :   theta_jn = 1.5203931706067444\n",
      "16:53 bilby INFO    :   dec = -0.6504746914330675\n",
      "16:53 bilby INFO    :   a_1 = 0.034467968154378636\n",
      "16:53 bilby INFO    :   luminosity_distance = 167.32545519172214\n",
      "16:53 bilby INFO    :   optimal SNR = 4.27\n",
      "16:53 bilby INFO    :   psi = 3.023738739203243\n",
      "16:53 bilby INFO    :   matched filter SNR = 2.49+1.16j\n",
      "16:53 bilby INFO    :   geocent_time = 27753415.484860573\n",
      "16:53 bilby INFO    :   phase = 5.36052781862058\n",
      "16:53 bilby INFO    :   a_2 = 0.09671988141411281\n",
      "16:53 bilby INFO    :   ra = 0.8046780673331195\n",
      "16:53 bilby INFO    :   tilt_1 = 0.0\n",
      "16:53 bilby INFO    :   chirp_mass = 1.1940743192546115\n",
      "16:53 bilby INFO    :   lambda_1 = 424.1889200219665\n",
      "16:53 bilby INFO    :   dec = -0.8365030899610424\n",
      "16:53 bilby INFO    :   tilt_2 = 0.0\n",
      "16:53 bilby INFO    :   lambda_2 = 447.55271766739287\n",
      "16:53 bilby INFO    :   mass_ratio = 0.8786897311241115\n",
      "16:53 bilby INFO    :   luminosity_distance = 83.29439924201739\n",
      "16:53 bilby INFO    :   phi_12 = 0.0\n",
      "16:53 bilby INFO    :   a_1 = 0.06153227780022938\n",
      "16:53 bilby INFO    :   phi_jl = 0.0\n",
      "16:53 bilby INFO    :   geocent_time = 30124509.14248271\n",
      "16:53 bilby INFO    :   a_2 = 0.01704691988535331\n",
      "16:53 bilby INFO    :   lambda_1 = 429.6353451324625\n",
      "16:53 bilby INFO    :   theta_jn = 0.7548293112884767\n",
      "16:53 bilby INFO    :   tilt_1 = 0.0\n",
      "16:53 bilby INFO    :   psi = 1.5970544091138164\n",
      "16:53 bilby INFO    :   tilt_2 = 0.0\n",
      "16:53 bilby INFO    :   lambda_2 = 417.8369192116588\n",
      "16:53 bilby INFO    :   phase = 6.275373719357701\n",
      "16:53 bilby INFO    :   phi_12 = 0.0\n",
      "16:53 bilby INFO    :   ra = 0.982189508744861\n",
      "16:53 bilby INFO    :   phi_jl = 0.0\n",
      "16:53 bilby INFO    :   dec = -0.725737066699132\n",
      "16:53 bilby INFO    :   theta_jn = 1.8113870569003272\n",
      "16:53 bilby INFO    :   luminosity_distance = 157.4110040763105\n",
      "16:53 bilby INFO    :   psi = 0.25116098835514516\n",
      "16:53 bilby INFO    :   phase = 4.627913184044456\n",
      "16:53 bilby INFO    :   geocent_time = 4432294.237024711\n",
      "16:53 bilby INFO    :   lambda_1 = 436.1192142968009\n",
      "16:53 bilby INFO    :   ra = 2.18559330216426\n",
      "16:53 bilby INFO    :   dec = 0.02100070131241687\n",
      "16:53 bilby INFO    :   lambda_2 = 410.00215022135296\n",
      "16:53 bilby INFO    :   luminosity_distance = 155.74362059668354\n",
      "16:53 bilby INFO    :   geocent_time = 15068301.739888225\n",
      "16:53 bilby INFO    :   lambda_1 = 425.34287904406364\n",
      "16:53 bilby INFO    :   lambda_2 = 440.9805629106576\n",
      "16:53 bilby INFO    : Injected signal in H1:\n",
      "16:53 bilby INFO    :   optimal SNR = 1.91\n",
      "16:53 bilby INFO    :   matched filter SNR = 1.62-1.32j\n",
      "16:53 bilby INFO    :   chirp_mass = 1.0060312520566577\n",
      "16:53 bilby INFO    :   mass_ratio = 0.9924245202173413\n",
      "16:53 bilby INFO    :   a_1 = 0.052378672409517935\n",
      "16:53 bilby INFO    :   a_2 = 0.09173167373152376\n",
      "16:53 bilby INFO    :   tilt_1 = 0.0\n",
      "16:53 bilby INFO    : Injected signal in H1:\n",
      "16:53 bilby INFO    :   optimal SNR = 4.54\n",
      "16:53 bilby INFO    :   tilt_2 = 0.0\n",
      "16:53 bilby INFO    :   matched filter SNR = 3.76+1.98j\n",
      "16:53 bilby INFO    :   phi_12 = 0.0\n",
      "16:53 bilby INFO    : Injected signal in H1:\n",
      "16:53 bilby INFO    :   chirp_mass = 1.579945541472741\n",
      "16:53 bilby INFO    :   optimal SNR = 4.09\n",
      "16:53 bilby INFO    :   phi_jl = 0.0\n",
      "16:53 bilby INFO    : Injected signal in H1:\n",
      "16:53 bilby INFO    :   mass_ratio = 0.8398722026832189\n",
      "16:53 bilby INFO    :   theta_jn = 1.9625764780877466\n",
      "16:53 bilby INFO    :   matched filter SNR = 4.48+1.94j\n",
      "16:53 bilby INFO    :   optimal SNR = 2.23\n",
      "16:53 bilby INFO    :   a_1 = 0.07827776237046916\n",
      "16:53 bilby INFO    :   chirp_mass = 1.5799832204769408\n",
      "16:53 bilby INFO    :   psi = 2.336847567882494\n",
      "16:53 bilby INFO    :   matched filter SNR = 1.37+1.22j\n",
      "16:53 bilby INFO    :   phase = 3.142888579338582\n",
      "16:53 bilby INFO    :   mass_ratio = 0.987610738423214\n",
      "16:53 bilby INFO    :   a_2 = 0.03748007686855932\n",
      "16:53 bilby INFO    :   chirp_mass = 1.1940743192546115\n",
      "16:53 bilby INFO    :   tilt_1 = 0.0\n",
      "16:53 bilby INFO    :   ra = 5.228046220965718\n",
      "16:53 bilby INFO    :   a_1 = 0.034467968154378636\n",
      "16:53 bilby INFO    :   mass_ratio = 0.8786897311241115\n",
      "16:53 bilby INFO    :   dec = -0.6504746914330675\n",
      "16:53 bilby INFO    :   tilt_2 = 0.0\n",
      "16:53 bilby INFO    :   a_2 = 0.09671988141411281\n",
      "16:53 bilby INFO    :   a_1 = 0.06153227780022938\n",
      "16:53 bilby INFO    :   phi_12 = 0.0\n",
      "16:53 bilby INFO    :   luminosity_distance = 167.32545519172214\n",
      "16:53 bilby INFO    :   tilt_1 = 0.0\n",
      "16:53 bilby INFO    :   a_2 = 0.01704691988535331\n",
      "16:53 bilby INFO    :   geocent_time = 27753415.484860573\n",
      "16:53 bilby INFO    :   phi_jl = 0.0\n",
      "16:53 bilby INFO    :   tilt_2 = 0.0\n",
      "16:53 bilby INFO    :   tilt_1 = 0.0\n",
      "16:53 bilby INFO    :   theta_jn = 1.5203931706067444\n",
      "16:53 bilby INFO    :   lambda_1 = 424.1889200219665\n",
      "16:53 bilby INFO    :   phi_12 = 0.0\n",
      "16:53 bilby INFO    :   tilt_2 = 0.0\n",
      "16:53 bilby INFO    :   psi = 3.023738739203243\n",
      "16:53 bilby INFO    :   lambda_2 = 447.55271766739287\n",
      "16:53 bilby INFO    :   phi_jl = 0.0\n",
      "16:53 bilby INFO    :   phi_12 = 0.0\n",
      "16:53 bilby INFO    :   phase = 5.36052781862058\n",
      "16:53 bilby INFO    :   theta_jn = 0.7548293112884767\n",
      "16:53 bilby INFO    :   phi_jl = 0.0\n",
      "16:53 bilby INFO    :   theta_jn = 1.8113870569003272\n",
      "16:53 bilby INFO    :   ra = 0.8046780673331195\n",
      "16:53 bilby INFO    :   psi = 1.5970544091138164\n",
      "16:53 bilby INFO    :   dec = -0.8365030899610424\n",
      "16:53 bilby INFO    :   phase = 6.275373719357701\n",
      "16:53 bilby INFO    :   psi = 0.25116098835514516\n",
      "16:53 bilby INFO    :   luminosity_distance = 83.29439924201739\n",
      "16:53 bilby INFO    :   ra = 0.982189508744861\n",
      "16:53 bilby INFO    :   phase = 4.627913184044456\n",
      "16:53 bilby INFO    :   geocent_time = 30124509.14248271\n",
      "16:53 bilby INFO    :   ra = 2.18559330216426\n",
      "16:53 bilby INFO    :   dec = -0.725737066699132\n",
      "16:53 bilby INFO    :   lambda_1 = 429.6353451324625\n",
      "16:53 bilby INFO    :   luminosity_distance = 157.4110040763105\n",
      "16:53 bilby INFO    :   dec = 0.02100070131241687\n",
      "16:53 bilby INFO    :   geocent_time = 4432294.237024711\n",
      "16:53 bilby INFO    :   luminosity_distance = 155.74362059668354\n",
      "16:53 bilby INFO    :   lambda_2 = 417.8369192116588\n",
      "16:53 bilby INFO    :   geocent_time = 15068301.739888225\n",
      "16:53 bilby INFO    :   lambda_1 = 436.1192142968009\n",
      "16:53 bilby INFO    :   lambda_2 = 410.00215022135296\n",
      "16:53 bilby INFO    :   lambda_1 = 425.34287904406364\n",
      "16:53 bilby INFO    :   lambda_2 = 440.9805629106576\n",
      "16:53 bilby INFO    : Injected signal in V1:\n",
      "16:53 bilby INFO    :   optimal SNR = 0.87\n",
      "16:53 bilby INFO    :   matched filter SNR = 1.02+0.31j\n",
      "16:53 bilby INFO    :   chirp_mass = 1.0060312520566577\n",
      "16:53 bilby INFO    :   mass_ratio = 0.9924245202173413\n",
      "16:53 bilby INFO    :   a_1 = 0.052378672409517935\n",
      "16:53 bilby INFO    :   a_2 = 0.09173167373152376\n",
      "16:53 bilby INFO    :   tilt_1 = 0.0\n",
      "16:53 bilby INFO    :   tilt_2 = 0.0\n",
      "16:53 bilby INFO    :   phi_12 = 0.0\n",
      "16:53 bilby INFO    :   phi_jl = 0.0\n",
      "16:53 bilby INFO    :   theta_jn = 1.9625764780877466\n",
      "16:53 bilby INFO    : Injected signal in V1:\n",
      "16:53 bilby INFO    : Injected signal in V1:\n",
      "16:53 bilby INFO    : Injected signal in V1:\n",
      "16:53 bilby INFO    :   psi = 2.336847567882494\n",
      "16:53 bilby INFO    :   optimal SNR = 2.64\n",
      "16:53 bilby INFO    :   optimal SNR = 1.25\n",
      "16:53 bilby INFO    :   optimal SNR = 0.61\n",
      "16:53 bilby INFO    :   phase = 3.142888579338582\n",
      "16:53 bilby INFO    :   matched filter SNR = 2.70-1.20j\n",
      "16:53 bilby INFO    :   matched filter SNR = 2.05-0.97j\n",
      "16:53 bilby INFO    :   matched filter SNR = 1.62-1.12j\n",
      "16:53 bilby INFO    :   ra = 5.228046220965718\n",
      "16:53 bilby INFO    :   chirp_mass = 1.5799832204769408\n",
      "16:53 bilby INFO    :   chirp_mass = 1.579945541472741\n",
      "16:53 bilby INFO    :   chirp_mass = 1.1940743192546115\n",
      "16:53 bilby INFO    :   dec = -0.6504746914330675\n",
      "16:53 bilby INFO    :   mass_ratio = 0.987610738423214\n",
      "16:53 bilby INFO    :   mass_ratio = 0.8398722026832189\n",
      "16:53 bilby INFO    :   mass_ratio = 0.8786897311241115\n",
      "16:53 bilby INFO    :   a_1 = 0.034467968154378636\n",
      "16:53 bilby INFO    :   luminosity_distance = 167.32545519172214\n",
      "16:53 bilby INFO    :   a_1 = 0.07827776237046916\n",
      "16:53 bilby INFO    :   a_1 = 0.06153227780022938\n",
      "16:53 bilby INFO    :   a_2 = 0.09671988141411281\n",
      "16:53 bilby INFO    :   geocent_time = 27753415.484860573\n",
      "16:53 bilby INFO    :   a_2 = 0.01704691988535331\n",
      "16:53 bilby INFO    :   a_2 = 0.03748007686855932\n",
      "16:53 bilby INFO    :   lambda_1 = 424.1889200219665\n",
      "16:53 bilby INFO    :   tilt_1 = 0.0\n",
      "16:53 bilby INFO    :   lambda_2 = 447.55271766739287\n",
      "16:53 bilby INFO    :   tilt_1 = 0.0\n",
      "16:53 bilby INFO    :   tilt_1 = 0.0\n",
      "16:53 bilby INFO    :   tilt_2 = 0.0\n",
      "16:53 bilby INFO    :   phi_12 = 0.0\n",
      "16:53 bilby INFO    :   tilt_2 = 0.0\n",
      "16:53 bilby INFO    :   tilt_2 = 0.0\n",
      "16:53 bilby INFO    :   phi_jl = 0.0\n",
      "16:53 bilby INFO    :   phi_12 = 0.0\n",
      "16:53 bilby INFO    :   phi_12 = 0.0\n",
      "16:53 bilby INFO    :   phi_jl = 0.0\n",
      "16:53 bilby INFO    :   phi_jl = 0.0\n",
      "16:53 bilby INFO    :   theta_jn = 0.7548293112884767\n",
      "16:53 bilby INFO    :   theta_jn = 1.8113870569003272\n",
      "16:53 bilby INFO    :   psi = 1.5970544091138164\n",
      "16:53 bilby INFO    :   theta_jn = 1.5203931706067444\n",
      "16:53 bilby INFO    :   psi = 0.25116098835514516\n",
      "16:53 bilby INFO    :   psi = 3.023738739203243\n",
      "16:53 bilby INFO    :   phase = 6.275373719357701\n",
      "16:53 bilby INFO    :   phase = 4.627913184044456\n",
      "16:53 bilby INFO    :   ra = 0.982189508744861\n",
      "16:53 bilby INFO    :   phase = 5.36052781862058\n",
      "16:53 bilby INFO    :   ra = 0.8046780673331195\n",
      "16:53 bilby INFO    :   dec = -0.725737066699132\n",
      "16:53 bilby INFO    :   ra = 2.18559330216426\n",
      "16:53 bilby INFO    :   luminosity_distance = 157.4110040763105\n",
      "16:53 bilby INFO    :   dec = 0.02100070131241687\n",
      "16:53 bilby INFO    :   dec = -0.8365030899610424\n",
      "16:53 bilby INFO    :   luminosity_distance = 155.74362059668354\n",
      "16:53 bilby INFO    :   geocent_time = 4432294.237024711\n",
      "16:53 bilby INFO    :   luminosity_distance = 83.29439924201739\n",
      "16:53 bilby INFO    :   geocent_time = 30124509.14248271\n",
      "16:53 bilby INFO    :   geocent_time = 15068301.739888225\n",
      "16:53 bilby INFO    :   lambda_1 = 436.1192142968009\n",
      "16:53 bilby INFO    :   lambda_2 = 410.00215022135296\n",
      "16:53 bilby INFO    :   lambda_1 = 429.6353451324625\n",
      "16:53 bilby INFO    :   lambda_1 = 425.34287904406364\n",
      "16:53 bilby INFO    :   lambda_2 = 440.9805629106576\n",
      "16:53 bilby INFO    :   lambda_2 = 417.8369192116588\n"
     ]
    },
    {
     "name": "stdout",
     "output_type": "stream",
     "text": [
      "Done!\n",
      "Result file saved to  example_outputs/catalog_statistics_short.txt\n"
     ]
    }
   ],
   "source": [
    "# This is an example of how to run catalog test, I set Nsample=4.\n",
    "# In practice you need more samples which is slow to run\n",
    "seal_O2 = seal.Seal('example_outputs/sealconfig_O2_lhv_BNS.txt')\n",
    "\n",
    "Nsample = 4\n",
    "det_name_list = ['L1', 'H1', 'V1']\n",
    "source_type = \"BNS\"\n",
    "ncpu = 4\n",
    "save_filename = 'example_outputs/catalog_statistics_short.txt' \n",
    "psd_files = ['example_inputs/L1_psd.txt','example_inputs/H1_psd.txt','example_inputs/V1_psd.txt']\n",
    "\n",
    "catalog_stats = seal_O2.catalog_test(Nsample, det_name_list, source_type, ncpu, save_filename,duration = 320,\n",
    "                      use_bilby_psd = False, custom_psd_path = psd_files)"
   ]
  },
  {
   "cell_type": "code",
   "execution_count": 3,
   "id": "0f7a3612-a3ba-4423-9d5a-4d2417a6b51b",
   "metadata": {},
   "outputs": [],
   "source": [
    "# Results from example3-catalog_test.py (contains 1000 events)\n",
    "save_filename_from_py = 'example_outputs/catalog_statistics.txt' \n",
    "\n",
    "catalog_stats = np.loadtxt(save_filename_from_py)"
   ]
  },
  {
   "cell_type": "code",
   "execution_count": 4,
   "id": "28906c08-2481-4e23-a2e7-3f4189d52535",
   "metadata": {},
   "outputs": [],
   "source": [
    "# We store the following statistics\n",
    "netsnr = catalog_stats[:,0]\n",
    "area_50 = catalog_stats[:,1]\n",
    "area_90 = catalog_stats[:,2]\n",
    "area_search = catalog_stats[:,3]\n",
    "pencentage = catalog_stats[:,4]\n",
    "timecost = catalog_stats[:,5]"
   ]
  },
  {
   "cell_type": "code",
   "execution_count": 5,
   "id": "0dfa4733-3a9a-434e-af67-540c2ca7b2cf",
   "metadata": {},
   "outputs": [
    {
     "data": {
      "image/png": "[encoded data removed]",
      "text/plain": [
       "<Figure size 576x360 with 1 Axes>"
      ]
     },
     "metadata": {
      "needs_background": "light"
     },
     "output_type": "display_data"
    }
   ],
   "source": [
    "# SNR in your simulation\n",
    "plt.figure(figsize=(8,5))\n",
    "x,xx,xxx = plt.hist(netsnr,bins=100)\n",
    "plt.xlim(8,30)\n",
    "plt.xlabel('SNR')\n",
    "plt.ylabel('Number of events')\n",
    "\n",
    "plt.show()"
   ]
  },
  {
   "cell_type": "code",
   "execution_count": 6,
   "id": "1206f654-0e98-42c3-b744-f25af22aff2c",
   "metadata": {},
   "outputs": [
    {
     "data": {
      "image/png": "[encoded data removed]",
      "text/plain": [
       "<Figure size 720x576 with 1 Axes>"
      ]
     },
     "metadata": {
      "needs_background": "light"
     },
     "output_type": "display_data"
    }
   ],
   "source": [
    "# areas in your simulation\n",
    "plt.figure(figsize=(10,8))\n",
    "\n",
    "plt.hist(np.log10(area_90),500,range=(-2,4),cumulative=True,histtype='step',density=True,label='90%, median = {} deg^2'.format(int(np.median(area_90))))\n",
    "plt.hist(np.log10(area_50),500,range=(-2,4),cumulative=True,histtype='step',density=True,label='50%, median = {} deg^2'.format(int(np.median(area_50))))\n",
    "plt.hist(np.log10(area_search),500,range=(-2,4),cumulative=True,histtype='step',density=True,label='search, median= {} deg^2'.format(int(np.median(area_search))))\n",
    "plt.xlim(0,4)\n",
    "plt.ylabel('cumulative ratio')\n",
    "plt.xlabel('log(deg^2)')\n",
    "plt.legend(loc=4)\n",
    "plt.show() "
   ]
  },
  {
   "cell_type": "code",
   "execution_count": 7,
   "id": "164d9cac-125f-4f46-9423-210c33a65a74",
   "metadata": {},
   "outputs": [
    {
     "data": {
      "image/png": "[encoded data removed]",
      "text/plain": [
       "<Figure size 576x576 with 1 Axes>"
      ]
     },
     "metadata": {
      "needs_background": "light"
     },
     "output_type": "display_data"
    }
   ],
   "source": [
    "# pp plot\n",
    "plt.figure(figsize=(8,8))\n",
    "\n",
    "x,xx,xxx = plt.hist(pencentage,bins=500,cumulative=True,histtype='step',density=True, linewidth=2, color='k')\n",
    "plt.xlim(0,1)\n",
    "plt.ylim(0,1)\n",
    "\n",
    "sample_size=1000\n",
    "pp,aa,bb = sealcal.localization.confidence_band(sample_size)\n",
    "plt.fill_between(pp,aa,bb,alpha=0.2, color='k')\n",
    "\n",
    "plt.xlabel('Confident level')\n",
    "plt.ylabel('Cumulatvie ratio')\n",
    "plt.grid()\n",
    "plt.show()"
   ]
  },
  {
   "cell_type": "code",
   "execution_count": 8,
   "id": "ff165042-8b6a-4986-90e1-5adcce2c94e8",
   "metadata": {},
   "outputs": [
    {
     "data": {
      "image/png": "[encoded data removed]",
      "text/plain": [
       "<Figure size 576x360 with 1 Axes>"
      ]
     },
     "metadata": {
      "needs_background": "light"
     },
     "output_type": "display_data"
    }
   ],
   "source": [
    "# Timecost in your simulation \n",
    "# Note that we use one thread in catalog simualtion, so it's slower than example2\n",
    "plt.figure(figsize=(8,5))\n",
    "x,xx,xxx = plt.hist(timecost,bins=50)\n",
    "plt.xlabel('Time cost (s)')\n",
    "plt.ylabel('Number of events')\n",
    "\n",
    "plt.show()"
   ]
  },
  {
   "cell_type": "code",
   "execution_count": null,
   "id": "eda68cac-d022-47aa-a0ca-335dc6501476",
   "metadata": {},
   "outputs": [],
   "source": []
  }
 ],
 "metadata": {
  "kernelspec": {
   "display_name": "igwn-py39",
   "language": "python",
   "name": "igwn-py39"
  },
  "language_info": {
   "codemirror_mode": {
    "name": "ipython",
    "version": 3
   },
   "file_extension": ".py",
   "mimetype": "text/x-python",
   "name": "python",
   "nbconvert_exporter": "python",
   "pygments_lexer": "ipython3",
   "version": "3.9.7"
  }
 },
 "nbformat": 4,
 "nbformat_minor": 5
}
